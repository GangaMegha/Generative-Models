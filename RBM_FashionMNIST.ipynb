{
  "nbformat": 4,
  "nbformat_minor": 0,
  "metadata": {
    "colab": {
      "name": "RBM_FashionMNIST.ipynb",
      "provenance": [],
      "collapsed_sections": [],
      "authorship_tag": "ABX9TyNAM8JvgP73G8SGIh1EDKHu",
      "include_colab_link": true
    },
    "kernelspec": {
      "name": "python3",
      "display_name": "Python 3"
    },
    "language_info": {
      "name": "python"
    }
  },
  "cells": [
    {
      "cell_type": "markdown",
      "metadata": {
        "id": "view-in-github",
        "colab_type": "text"
      },
      "source": [
        "<a href=\"https://colab.research.google.com/github/GangaMegha/Generative-Models/blob/main/RBM_FashionMNIST.ipynb\" target=\"_parent\"><img src=\"https://colab.research.google.com/assets/colab-badge.svg\" alt=\"Open In Colab\"/></a>"
      ]
    },
    {
      "cell_type": "code",
      "metadata": {
        "id": "FcyDht9LwHXP"
      },
      "source": [
        "import numpy as np\n",
        "\n",
        "import matplotlib.pyplot as plt\n",
        "\n",
        "# Import MNIST data\n",
        "import tensorflow as tf"
      ],
      "execution_count": 1,
      "outputs": []
    },
    {
      "cell_type": "markdown",
      "metadata": {
        "id": "bpN1fuKVG8DQ"
      },
      "source": [
        "# RBM class"
      ]
    },
    {
      "cell_type": "code",
      "metadata": {
        "id": "DgSFBOGKG_OC"
      },
      "source": [
        "class RBM():\n",
        "    def __init__(self, num_hidden, num_visible, lr, n, batch_size, epochs):\n",
        "        self.num_hidden = num_hidden\n",
        "        self.num_visible = num_visible\n",
        "        self.lr = lr\n",
        "        self.n = n\n",
        "        self.batch_size = batch_size\n",
        "        self.epochs = epochs\n",
        "\n",
        "        self.W = np.random.randn(num_hidden, num_visible)/np.sqrt(0.5*(num_visible + num_hidden)) # weights\n",
        "\n",
        "        self.b_h = np.zeros((num_hidden, 1)) # bias latent\n",
        "        self.b_v = np.zeros((num_visible, 1)) # bias visible\n",
        "\n",
        "        self.dW = []\n",
        "        self.db_h = []\n",
        "        self.db_v = []\n",
        "\n",
        "    def sigmoid(self, x):  \n",
        "        #Sigmoid activation \n",
        "        #Implemented interms  of tanh for increased stability\n",
        "        return .5 * (1 + np.tanh(.5 * x))\n",
        "\n",
        "    \n",
        "    def bernoulli_array(self, prob_array, dim):\n",
        "        # Simulating Bernoulli from uniform\n",
        "        sample = np.zeros(dim)\n",
        "\n",
        "        # Draw x~Uni[0,1]\n",
        "        uni_sample = np.random.uniform(0, 1, dim)\n",
        "\n",
        "        # return 1 if x < p else return 0\n",
        "        diff = uni_sample - prob_array\n",
        "        coords = np.argwhere(diff<0)\n",
        "        sample[[*coords.T]] = 1  \n",
        "\n",
        "        return sample\n",
        "\n",
        "    def gibbs_sampling(self, h_0):\n",
        "\n",
        "        h = h_0.copy()\n",
        "\n",
        "        for i in range(self.n):\n",
        "\n",
        "            # (v x h) @ (h x b) + (v x 1) = (v x b)\n",
        "            p_v_h = self.sigmoid(self.W.T @ h + self.b_v)\n",
        "            v = self.bernoulli_array(p_v_h, (p_v_h.shape[0], p_v_h.shape[1]))\n",
        "\n",
        "            # (h x v) @ (v x b) + (h x 1) = (h x b)\n",
        "            p_h_v = self.sigmoid(self.W @ v + self.b_h)\n",
        "            h = self.bernoulli_array(p_h_v, (p_h_v.shape[0], p_h_v.shape[1]))\n",
        "\n",
        "        return v, h, p_h_v\n",
        "\n",
        "    def gradient_descent(self, v_0, p_h_v_0, v_n, p_h_v_n):\n",
        "\n",
        "        # Compute the gradients\n",
        "        # (h x b) @ (b x v) - (h x b) @ (b x v) = (h x v)\n",
        "        self.dW = (p_h_v_0 @ v_0 - p_h_v_n @ v_n)/self.batch_size\n",
        "        self.db_h = np.mean(p_h_v_0 - p_h_v_n, axis=1)[:, np.newaxis]\n",
        "        self.db_v = np.mean(v_0 - v_n, axis=0)[:, np.newaxis]\n",
        "        \n",
        "        # Weight update\n",
        "        self.W   = self.W   + self.lr * self.dW\n",
        "        self.b_h = self.b_h + self.lr * self.db_h\n",
        "        self.b_v = self.b_v + self.lr * self.db_v\n",
        "\n",
        "\n",
        "    def reconstruction_error(self, v):\n",
        "        # Sample hidden state\n",
        "        p_h_v = self.sigmoid(self.W @ v + self.b_h)\n",
        "        h = self.bernoulli_array(p_h_v, (p_h_v.shape[0], p_h_v.shape[1]))\n",
        "\n",
        "        # Sample viible state\n",
        "        p_v_h = self.sigmoid(self.W.T @ h + self.b_v)\n",
        "        v_sampled = self.bernoulli_array(p_v_h, (p_v_h.shape[0], p_v_h.shape[1]))    \n",
        "\n",
        "        return np.sum(np.mean((v-v_sampled)**2, axis=1), axis=0)\n",
        "\n",
        "\n",
        "    def reconstruct_image(self, v):\n",
        "        # Sample hidden state\n",
        "        p_h_v = self.sigmoid(self.W @ v + self.b_h)\n",
        "        h = self.bernoulli_array(p_h_v, (p_h_v.shape[0], p_h_v.shape[1]))\n",
        "\n",
        "        # Sample viible state\n",
        "        p_v_h = self.sigmoid(self.W.T @ h + self.b_v)\n",
        "        v_sampled = self.bernoulli_array(p_v_h, (p_v_h.shape[0], p_v_h.shape[1]))    \n",
        "\n",
        "        return v_sampled\n",
        "\n",
        "\n",
        "    def Train(self, train, val):\n",
        "\n",
        "        num_batches = int(train.shape[0]/self.batch_size)\n",
        "        train_loss = []\n",
        "        val_loss = []\n",
        "\n",
        "        for epoch in range(self.epochs):\n",
        "\n",
        "            # Shuffling the data\n",
        "            train = np.random.permutation(train)\n",
        "\n",
        "            # Splitting data into batches\n",
        "            batches = np.array_split(train, num_batches)\n",
        "\n",
        "            for i in range(num_batches):\n",
        "\n",
        "                # visible units from data\n",
        "                v_0 = batches[i].T\n",
        "\n",
        "                # (h x v) @ (v x b) + (h x 1) = (h x b)\n",
        "                p_h_v_0 = self.sigmoid(self.W @ v_0 + self.b_h)\n",
        "                h_0 = self.bernoulli_array(p_h_v_0, (p_h_v_0.shape[0], p_h_v_0.shape[1]))\n",
        "\n",
        "                # Run the markov chain\n",
        "                v_n, h_n, p_h_v_n = self.gibbs_sampling(h_0)\n",
        "\n",
        "                # Compute gradients\n",
        "                self.gradient_descent(v_0.T, p_h_v_0, v_n.T, p_h_v_n)\n",
        "\n",
        "            # Compute reconstruction errror\n",
        "            error_train = self.reconstruction_error(train.T)\n",
        "            error_val = self.reconstruction_error(val.T)\n",
        "\n",
        "            # print(f\"Epoch {epoch+1} ------> Error => Train : {error_train}, Val : {error_val}\")\n",
        " \n",
        "            train_loss.append(error_train)\n",
        "            val_loss.append(error_val)\n",
        "\n",
        "        return train_loss, val_loss\n",
        "\n"
      ],
      "execution_count": 6,
      "outputs": []
    },
    {
      "cell_type": "markdown",
      "metadata": {
        "id": "kJ6GU55s92Qa"
      },
      "source": [
        "# Fashion MNIST data"
      ]
    },
    {
      "cell_type": "code",
      "metadata": {
        "colab": {
          "base_uri": "https://localhost:8080/",
          "height": 512
        },
        "id": "DOp2JtgT9l0P",
        "outputId": "b0e3cc9b-0372-4ec3-b469-93d4c3343878"
      },
      "source": [
        "# Load MNIST data\n",
        "fashion_mnist = tf.keras.datasets.fashion_mnist\n",
        "(train, train_y), (test, test_y) = fashion_mnist.load_data()\n",
        "\n",
        "train = train.copy()\n",
        "train_y = train_y.copy()\n",
        "\n",
        "test = test.copy()\n",
        "test_y = test_y.copy()\n",
        "\n",
        "# Converting to binary\n",
        "train[[*np.argwhere(train>0).T]] = 1\n",
        "test[[*np.argwhere(test>0).T]] = 1\n",
        "\n",
        "\n",
        "fig = plt.figure()\n",
        "for i in range(9):\n",
        "  plt.subplot(3,3,i+1)\n",
        "  plt.tight_layout()\n",
        "  plt.imshow(train[i], cmap='gray', interpolation='none')\n",
        "  plt.title(\"Label: {}\".format(train_y[i]))\n",
        "  plt.xticks([])\n",
        "  plt.yticks([])"
      ],
      "execution_count": 3,
      "outputs": [
        {
          "output_type": "stream",
          "text": [
            "Downloading data from https://storage.googleapis.com/tensorflow/tf-keras-datasets/train-labels-idx1-ubyte.gz\n",
            "32768/29515 [=================================] - 0s 0us/step\n",
            "Downloading data from https://storage.googleapis.com/tensorflow/tf-keras-datasets/train-images-idx3-ubyte.gz\n",
            "26427392/26421880 [==============================] - 0s 0us/step\n",
            "Downloading data from https://storage.googleapis.com/tensorflow/tf-keras-datasets/t10k-labels-idx1-ubyte.gz\n",
            "8192/5148 [===============================================] - 0s 0us/step\n",
            "Downloading data from https://storage.googleapis.com/tensorflow/tf-keras-datasets/t10k-images-idx3-ubyte.gz\n",
            "4423680/4422102 [==============================] - 0s 0us/step\n"
          ],
          "name": "stdout"
        },
        {
          "output_type": "stream",
          "text": [
            "/usr/local/lib/python3.7/dist-packages/ipykernel_launcher.py:12: FutureWarning: Using a non-tuple sequence for multidimensional indexing is deprecated; use `arr[tuple(seq)]` instead of `arr[seq]`. In the future this will be interpreted as an array index, `arr[np.array(seq)]`, which will result either in an error or a different result.\n",
            "  if sys.path[0] == '':\n",
            "/usr/local/lib/python3.7/dist-packages/ipykernel_launcher.py:13: FutureWarning: Using a non-tuple sequence for multidimensional indexing is deprecated; use `arr[tuple(seq)]` instead of `arr[seq]`. In the future this will be interpreted as an array index, `arr[np.array(seq)]`, which will result either in an error or a different result.\n",
            "  del sys.path[0]\n"
          ],
          "name": "stderr"
        },
        {
          "output_type": "display_data",
          "data": {
            "image/png": "[encoded data removed]",
            "text/plain": [
              "<Figure size 432x288 with 9 Axes>"
            ]
          },
          "metadata": {
            "tags": []
          }
        }
      ]
    },
    {
      "cell_type": "code",
      "metadata": {
        "colab": {
          "base_uri": "https://localhost:8080/"
        },
        "id": "Z0uFtm7E9dvU",
        "outputId": "01678790-24c1-4bcf-bdfc-3932670ee022"
      },
      "source": [
        "# Split data into Train, Val, Test and flatten the images\n",
        "frac = 0.15\n",
        "\n",
        "n = int(frac*(train.shape[0]))\n",
        "val = train[:n]\n",
        "train = train[n:]\n",
        "\n",
        "train = train.reshape(train.shape[0], -1)\n",
        "val = val.reshape(val.shape[0], -1)\n",
        "test = test.reshape(test.shape[0], -1)\n",
        "\n",
        "print('Train: ', train.shape)\n",
        "print('Val: ', val.shape)\n",
        "print('Test:  ', test.shape)\n",
        "\n",
        "print(\"\\n\\nUnique labels : \", np.unique(train_y))"
      ],
      "execution_count": 4,
      "outputs": [
        {
          "output_type": "stream",
          "text": [
            "Train:  (51000, 784)\n",
            "Val:  (9000, 784)\n",
            "Test:   (10000, 784)\n",
            "\n",
            "\n",
            "Unique labels :  [0 1 2 3 4 5 6 7 8 9]\n"
          ],
          "name": "stdout"
        }
      ]
    },
    {
      "cell_type": "markdown",
      "metadata": {
        "id": "-7sT-yDYPI2M"
      },
      "source": [
        "# Train and Inference"
      ]
    },
    {
      "cell_type": "code",
      "metadata": {
        "id": "yCLe1EBNPT-W"
      },
      "source": [
        "# RBM config\n",
        "num_hidden = 256 # number of hidden units\n",
        "lr = 0.001 # learning rate for gradient descent\n",
        "n = 1 # number of Gibbs sampling steps\n",
        "batch_size = 100 # mini batch size for gradient update\n",
        "epochs = 600 # number of epochs"
      ],
      "execution_count": 12,
      "outputs": []
    },
    {
      "cell_type": "code",
      "metadata": {
        "id": "C3sHXwRmmmkt"
      },
      "source": [
        "rbm = RBM(num_hidden, val.shape[1], lr, n, batch_size, epochs)\n",
        "train_loss, val_loss = rbm.Train(train, val)"
      ],
      "execution_count": null,
      "outputs": []
    },
    {
      "cell_type": "code",
      "metadata": {
        "colab": {
          "base_uri": "https://localhost:8080/",
          "height": 312
        },
        "id": "-Yefr5jKS7AT",
        "outputId": "a3db9083-b551-4afd-a128-add28c54b019"
      },
      "source": [
        "fig = plt.figure()\n",
        "plt.plot(train_loss, c='r', label=\"Train\")\n",
        "plt.plot(val_loss, c='g', label=\"Val\")\n",
        "plt.legend()\n",
        "plt.title(\"Reconstruction Error\")\n",
        "plt.xlabel(\"Epoch\")\n",
        "plt.ylabel(\"Error\")"
      ],
      "execution_count": 14,
      "outputs": [
        {
          "output_type": "execute_result",
          "data": {
            "text/plain": [
              "Text(0, 0.5, 'Error')"
            ]
          },
          "metadata": {
            "tags": []
          },
          "execution_count": 14
        },
        {
          "output_type": "display_data",
          "data": {
            "image/png": "[encoded data removed]",
            "text/plain": [
              "<Figure size 432x288 with 1 Axes>"
            ]
          },
          "metadata": {
            "tags": [],
            "needs_background": "light"
          }
        }
      ]
    },
    {
      "cell_type": "code",
      "metadata": {
        "colab": {
          "base_uri": "https://localhost:8080/"
        },
        "id": "0MePRvw4a6TT",
        "outputId": "bf8db68b-d93b-45c5-faad-f8183171afc9"
      },
      "source": [
        "err = rbm.reconstruction_error(test.T)\n",
        "\n",
        "print(\"Reconstruction error using original RBM : \", err)"
      ],
      "execution_count": 15,
      "outputs": [
        {
          "output_type": "stream",
          "text": [
            "/usr/local/lib/python3.7/dist-packages/ipykernel_launcher.py:35: FutureWarning: Using a non-tuple sequence for multidimensional indexing is deprecated; use `arr[tuple(seq)]` instead of `arr[seq]`. In the future this will be interpreted as an array index, `arr[np.array(seq)]`, which will result either in an error or a different result.\n"
          ],
          "name": "stderr"
        },
        {
          "output_type": "stream",
          "text": [
            "Reconstruction error using original RBM :  65.7017\n"
          ],
          "name": "stdout"
        }
      ]
    },
    {
      "cell_type": "markdown",
      "metadata": {
        "id": "Lol-hyPcBByF"
      },
      "source": [
        "# Test data image reconstruction\n",
        "\n",
        "---\n",
        "\n"
      ]
    },
    {
      "cell_type": "code",
      "metadata": {
        "colab": {
          "base_uri": "https://localhost:8080/",
          "height": 336
        },
        "id": "mHybMXHyBAKH",
        "outputId": "ffd2c6b2-758e-4944-bdf1-5480c0f82891"
      },
      "source": [
        "print(\"\\n\\nOriginal Images ....\")\n",
        "fig1 = plt.figure()\n",
        "for i in range(9):\n",
        "  plt.subplot(3,3,i+1)\n",
        "  plt.tight_layout()\n",
        "  plt.imshow(test[i].reshape((28,28)), cmap='gray', interpolation='none')\n",
        "  plt.title(\"Label: {}\".format(test_y[i]))\n",
        "  plt.xticks([])\n",
        "  plt.yticks([])"
      ],
      "execution_count": 19,
      "outputs": [
        {
          "output_type": "stream",
          "text": [
            "\n",
            "\n",
            "Original Images ....\n"
          ],
          "name": "stdout"
        },
        {
          "output_type": "display_data",
          "data": {
            "image/png": "[encoded data removed]",
            "text/plain": [
              "<Figure size 432x288 with 9 Axes>"
            ]
          },
          "metadata": {
            "tags": []
          }
        }
      ]
    },
    {
      "cell_type": "code",
      "metadata": {
        "colab": {
          "base_uri": "https://localhost:8080/",
          "height": 373
        },
        "id": "kLQRDTvgBh_Z",
        "outputId": "8748ed91-08b8-4fca-daf2-1e9567312a8b"
      },
      "source": [
        "print(\"\\n\\nSampled images....\")\n",
        "fig2 = plt.figure()\n",
        "for i in range(9):\n",
        "  plt.subplot(3,3,i+1)\n",
        "  plt.tight_layout()\n",
        "\n",
        "  # 1 step sampling\n",
        "  img = rbm.reconstruct_image(test[i].T.reshape((784,1)))\n",
        "\n",
        "  plt.imshow(img.reshape((28,28)), cmap='gray', interpolation='none')\n",
        "  plt.title(\"Label: {}\".format(test_y[i]))\n",
        "  plt.xticks([])\n",
        "  plt.yticks([])"
      ],
      "execution_count": 18,
      "outputs": [
        {
          "output_type": "stream",
          "text": [
            "\n",
            "\n",
            "Sampled images....\n"
          ],
          "name": "stdout"
        },
        {
          "output_type": "stream",
          "text": [
            "/usr/local/lib/python3.7/dist-packages/ipykernel_launcher.py:35: FutureWarning: Using a non-tuple sequence for multidimensional indexing is deprecated; use `arr[tuple(seq)]` instead of `arr[seq]`. In the future this will be interpreted as an array index, `arr[np.array(seq)]`, which will result either in an error or a different result.\n"
          ],
          "name": "stderr"
        },
        {
          "output_type": "display_data",
          "data": {
            "image/png": "[encoded data removed]",
            "text/plain": [
              "<Figure size 432x288 with 9 Axes>"
            ]
          },
          "metadata": {
            "tags": []
          }
        }
      ]
    },
    {
      "cell_type": "markdown",
      "metadata": {
        "id": "p8IgNPBk-3Ai"
      },
      "source": [
        "# Compare different n"
      ]
    },
    {
      "cell_type": "code",
      "metadata": {
        "id": "E_5-JHlx_Lz4"
      },
      "source": [
        "# RBM config\n",
        "num_hidden = 256 # number of hidden units\n",
        "lr = 0.001 # learning rate for gradient descent\n",
        "batch_size = 100 # mini batch size for gradient update\n",
        "epochs = 300 # number of epochs"
      ],
      "execution_count": 7,
      "outputs": []
    },
    {
      "cell_type": "code",
      "metadata": {
        "colab": {
          "base_uri": "https://localhost:8080/"
        },
        "id": "hvF4XVxn-60N",
        "outputId": "bb24b088-ea38-4e00-ea29-f56cf0de93b1"
      },
      "source": [
        "rbm_1 = RBM(num_hidden, val.shape[1], lr, 1, batch_size, epochs)\n",
        "train_loss_1, val_loss_1 = rbm_1.Train(train, val)"
      ],
      "execution_count": null,
      "outputs": [
        {
          "output_type": "stream",
          "text": [
            "/usr/local/lib/python3.7/dist-packages/ipykernel_launcher.py:35: FutureWarning: Using a non-tuple sequence for multidimensional indexing is deprecated; use `arr[tuple(seq)]` instead of `arr[seq]`. In the future this will be interpreted as an array index, `arr[np.array(seq)]`, which will result either in an error or a different result.\n"
          ],
          "name": "stderr"
        }
      ]
    },
    {
      "cell_type": "code",
      "metadata": {
        "id": "IqCf8Afo_Gq8"
      },
      "source": [
        "rbm_2 = RBM(num_hidden, val.shape[1], lr, 2, batch_size, epochs)\n",
        "train_loss_2, val_loss_2 = rbm_2.Train(train, val)"
      ],
      "execution_count": null,
      "outputs": []
    },
    {
      "cell_type": "code",
      "metadata": {
        "id": "yq9oZy10_Wd4"
      },
      "source": [
        "rbm_4 = RBM(num_hidden, val.shape[1], lr, 4, batch_size, epochs)\n",
        "train_loss_4, val_loss_4 = rbm_4.Train(train, val)"
      ],
      "execution_count": null,
      "outputs": []
    },
    {
      "cell_type": "code",
      "metadata": {
        "id": "OMXJ2YRh_d2l"
      },
      "source": [
        "rbm_8 = RBM(num_hidden, val.shape[1], lr, 8, batch_size, epochs)\n",
        "train_loss_8, val_loss_8 = rbm_8.Train(train, val)"
      ],
      "execution_count": null,
      "outputs": []
    },
    {
      "cell_type": "code",
      "metadata": {
        "id": "SR_nUswe_hs_"
      },
      "source": [
        "rbm_16 = RBM(num_hidden, val.shape[1], lr, 16, batch_size, epochs)\n",
        "train_loss_16, val_loss_16 = rbm_16.Train(train, val)"
      ],
      "execution_count": null,
      "outputs": []
    },
    {
      "cell_type": "code",
      "metadata": {
        "id": "aT8wwf-Y_FSL"
      },
      "source": [
        "fig = plt.figure()\n",
        "plt.plot(train_loss_1, c='r', label=\"n=1\")\n",
        "plt.plot(train_loss_2, c='g', label=\"n=2\")\n",
        "plt.plot(train_loss_4, c='b', label=\"n=4\")\n",
        "plt.plot(train_loss_8, c='c', label=\"n=8\")\n",
        "plt.plot(train_loss_16, c='k', label=\"n=16\")\n",
        "plt.legend()\n",
        "plt.title(\"Reconstruction Error : Train\")\n",
        "plt.xlabel(\"Epoch\")\n",
        "plt.ylabel(\"Error\")"
      ],
      "execution_count": null,
      "outputs": []
    },
    {
      "cell_type": "code",
      "metadata": {
        "id": "4JUZMVoWAwc5"
      },
      "source": [
        "fig = plt.figure()\n",
        "plt.plot(val_loss_1, c='r', label=\"n=1\")\n",
        "plt.plot(val_loss_2, c='g', label=\"n=2\")\n",
        "plt.plot(val_loss_4, c='b', label=\"n=4\")\n",
        "plt.plot(val_loss_8, c='c', label=\"n=8\")\n",
        "plt.plot(val_loss_16, c='k', label=\"n=16\")\n",
        "plt.legend()\n",
        "plt.title(\"Reconstruction Error : Val\")\n",
        "plt.xlabel(\"Epoch\")\n",
        "plt.ylabel(\"Error\")"
      ],
      "execution_count": null,
      "outputs": []
    },
    {
      "cell_type": "code",
      "metadata": {
        "id": "S5A8KRIMA7Fc"
      },
      "source": [
        "err_1 = rbm_1.reconstruction_error(test.T)\n",
        "err_2 = rbm_2.reconstruction_error(test.T)\n",
        "err_4 = rbm_4.reconstruction_error(test.T)\n",
        "err_8 = rbm_8.reconstruction_error(test.T)\n",
        "err_16 = rbm_16.reconstruction_error(test.T)\n",
        "\n",
        "print(\"Test Reconstruction error using n=1 RBM : \", err_1)\n",
        "print(\"Test Reconstruction error using n=2 RBM : \", err_2)\n",
        "print(\"Test Reconstruction error using n=4 RBM : \", err_4)\n",
        "print(\"Test Reconstruction error using n=8 RBM : \", err_8)\n",
        "print(\"Test Reconstruction error using n=16 RBM : \", err_16)\n"
      ],
      "execution_count": null,
      "outputs": []
    },
    {
      "cell_type": "code",
      "metadata": {
        "id": "njGH-NL6BX02"
      },
      "source": [
        "fig = plt.figure()\n",
        "plt.scatter(1, err_1, c='r', label=\"n=1\")\n",
        "plt.scatter(2, err_2, c='g', label=\"n=2\")\n",
        "plt.scatter(4, err_4, c='b', label=\"n=4\")\n",
        "plt.scatter(8, err_8, c='c', label=\"n=8\")\n",
        "plt.scatter(16, err_16, c='k', label=\"n=16\")\n",
        "plt.legend()\n",
        "plt.title(\"Reconstruction Error : Test\")\n",
        "plt.xlabel(\"n\")\n",
        "plt.ylabel(\"Error\")"
      ],
      "execution_count": null,
      "outputs": []
    }
  ]
}