{
  "nbformat": 4,
  "nbformat_minor": 0,
  "metadata": {
    "colab": {
      "name": "RBM.ipynb",
      "provenance": [],
      "collapsed_sections": [],
      "authorship_tag": "ABX9TyP2U03Os9HkrykDb4VhUlHF",
      "include_colab_link": true
    },
    "kernelspec": {
      "name": "python3",
      "display_name": "Python 3"
    },
    "language_info": {
      "name": "python"
    }
  },
  "cells": [
    {
      "cell_type": "markdown",
      "metadata": {
        "id": "view-in-github",
        "colab_type": "text"
      },
      "source": [
        "<a href=\"https://colab.research.google.com/github/GangaMegha/Generative-Models/blob/main/RBM.ipynb\" target=\"_parent\"><img src=\"https://colab.research.google.com/assets/colab-badge.svg\" alt=\"Open In Colab\"/></a>"
      ]
    },
    {
      "cell_type": "code",
      "metadata": {
        "id": "FcyDht9LwHXP"
      },
      "source": [
        "import numpy as np\n",
        "\n",
        "import matplotlib.pyplot as plt\n",
        "\n",
        "# Import MNIST data\n",
        "from keras.datasets import mnist"
      ],
      "execution_count": 1,
      "outputs": []
    },
    {
      "cell_type": "markdown",
      "metadata": {
        "id": "bpN1fuKVG8DQ"
      },
      "source": [
        "# RBM class"
      ]
    },
    {
      "cell_type": "code",
      "metadata": {
        "id": "DgSFBOGKG_OC"
      },
      "source": [
        "class RBM():\n",
        "    def __init__(self, num_hidden, num_visible, lr, n, batch_size, epochs):\n",
        "        self.num_hidden = num_hidden\n",
        "        self.num_visible = num_visible\n",
        "        self.lr = lr\n",
        "        self.n = n\n",
        "        self.batch_size = batch_size\n",
        "        self.epochs = epochs\n",
        "\n",
        "        self.W = np.random.randn(num_hidden, num_visible)/np.sqrt(0.5*(num_visible + num_hidden)) # weights\n",
        "\n",
        "        self.b_h = np.zeros((num_hidden, 1)) # bias latent\n",
        "        self.b_v = np.zeros((num_visible, 1)) # bias visible\n",
        "\n",
        "        self.dW = []\n",
        "        self.db_h = []\n",
        "        self.db_v = []\n",
        "\n",
        "    def sigmoid(self, x):  \n",
        "        #Sigmoid activation \n",
        "        #Implemented interms  of tanh for increased stability\n",
        "        return .5 * (1 + np.tanh(.5 * x))\n",
        "\n",
        "    \n",
        "    def bernoulli_array(self, prob_array, dim):\n",
        "        # Simulating Bernoulli from uniform\n",
        "        sample = np.zeros(dim)\n",
        "\n",
        "        # Draw x~Uni[0,1]\n",
        "        uni_sample = np.random.uniform(0, 1, dim)\n",
        "\n",
        "        # return 1 if x < p else return 0\n",
        "        diff = uni_sample - prob_array\n",
        "        coords = np.argwhere(diff<0)\n",
        "        sample[[*coords.T]] = 1  \n",
        "\n",
        "        return sample\n",
        "\n",
        "    def gibbs_sampling(self, h_0):\n",
        "\n",
        "        h = h_0.copy()\n",
        "\n",
        "        for i in range(self.n):\n",
        "\n",
        "            # (v x h) @ (h x b) + (v x 1) = (v x b)\n",
        "            p_v_h = self.sigmoid(self.W.T @ h + self.b_v)\n",
        "            v = self.bernoulli_array(p_v_h, (p_v_h.shape[0], p_v_h.shape[1]))\n",
        "\n",
        "            # (h x v) @ (v x b) + (h x 1) = (h x b)\n",
        "            p_h_v = self.sigmoid(self.W @ v + self.b_h)\n",
        "            h = self.bernoulli_array(p_h_v, (p_h_v.shape[0], p_h_v.shape[1]))\n",
        "\n",
        "        return v, h, p_h_v\n",
        "\n",
        "    def gradient_descent(self, v_0, p_h_v_0, v_n, p_h_v_n):\n",
        "\n",
        "        # Compute the gradients\n",
        "        # (h x b) @ (b x v) - (h x b) @ (b x v) = (h x v)\n",
        "        self.dW = (p_h_v_0 @ v_0 - p_h_v_n @ v_n)/self.batch_size\n",
        "        self.db_h = np.mean(p_h_v_0 - p_h_v_n, axis=1)[:, np.newaxis]\n",
        "        self.db_v = np.mean(v_0 - v_n, axis=0)[:, np.newaxis]\n",
        "        \n",
        "        # Weight update\n",
        "        self.W   = self.W   + self.lr * self.dW\n",
        "        self.b_h = self.b_h + self.lr * self.db_h\n",
        "        self.b_v = self.b_v + self.lr * self.db_v\n",
        "\n",
        "\n",
        "    def reconstruction_error(self, v):\n",
        "        # Sample hidden state\n",
        "        p_h_v = self.sigmoid(self.W @ v + self.b_h)\n",
        "        h = self.bernoulli_array(p_h_v, (p_h_v.shape[0], p_h_v.shape[1]))\n",
        "\n",
        "        # Sample viible state\n",
        "        p_v_h = self.sigmoid(self.W.T @ h + self.b_v)\n",
        "        v_sampled = self.bernoulli_array(p_v_h, (p_v_h.shape[0], p_v_h.shape[1]))    \n",
        "\n",
        "        return np.sum(np.mean((v-v_sampled)**2, axis=1), axis=0)\n",
        "\n",
        "\n",
        "    def reconstruct_image(self, v):\n",
        "        # Sample hidden state\n",
        "        p_h_v = self.sigmoid(self.W @ v + self.b_h)\n",
        "        h = self.bernoulli_array(p_h_v, (p_h_v.shape[0], p_h_v.shape[1]))\n",
        "\n",
        "        # Sample viible state\n",
        "        p_v_h = self.sigmoid(self.W.T @ h + self.b_v)\n",
        "        v_sampled = self.bernoulli_array(p_v_h, (p_v_h.shape[0], p_v_h.shape[1]))    \n",
        "\n",
        "        return v_sampled\n",
        "\n",
        "\n",
        "    def Train(self, train, val):\n",
        "\n",
        "        num_batches = int(train.shape[0]/batch_size)\n",
        "        train_loss = []\n",
        "        val_loss = []\n",
        "\n",
        "        for epoch in range(self.epochs):\n",
        "\n",
        "            # Shuffling the data\n",
        "            train = np.random.permutation(train)\n",
        "\n",
        "            # Splitting data into batches\n",
        "            batches = np.array_split(train, num_batches)\n",
        "\n",
        "            for i in range(num_batches):\n",
        "\n",
        "                # visible units from data\n",
        "                v_0 = batches[i].T\n",
        "\n",
        "                # (h x v) @ (v x b) + (h x 1) = (h x b)\n",
        "                p_h_v_0 = self.sigmoid(self.W @ v_0 + self.b_h)\n",
        "                h_0 = self.bernoulli_array(p_h_v_0, (p_h_v_0.shape[0], p_h_v_0.shape[1]))\n",
        "\n",
        "                # Run the markov chain\n",
        "                v_n, h_n, p_h_v_n = self.gibbs_sampling(h_0)\n",
        "\n",
        "                # Compute gradients\n",
        "                self.gradient_descent(v_0.T, p_h_v_0, v_n.T, p_h_v_n)\n",
        "\n",
        "            # Compute reconstruction errror\n",
        "            error_train = self.reconstruction_error(train.T)\n",
        "            error_val = self.reconstruction_error(val.T)\n",
        "\n",
        "            print(f\"Epoch {epoch+1} ------> Error => Train : {error_train}, Val : {error_val}\")\n",
        " \n",
        "            train_loss.append(error_train)\n",
        "            val_loss.append(error_val)\n",
        "\n",
        "        return train_loss, val_loss\n",
        "\n"
      ],
      "execution_count": 2,
      "outputs": []
    },
    {
      "cell_type": "markdown",
      "metadata": {
        "id": "kJ6GU55s92Qa"
      },
      "source": [
        "# MNIST data"
      ]
    },
    {
      "cell_type": "code",
      "metadata": {
        "colab": {
          "base_uri": "https://localhost:8080/",
          "height": 408
        },
        "id": "DOp2JtgT9l0P",
        "outputId": "414241d6-2e16-4fce-c3c8-7e4a0449fe57"
      },
      "source": [
        "# Load MNIST data\n",
        "(train, train_y), (test, test_y) = mnist.load_data()\n",
        "\n",
        "# Converting to binary\n",
        "train[[*np.argwhere(train>0).T]] = 1\n",
        "test[[*np.argwhere(test>0).T]] = 1\n",
        "\n",
        "\n",
        "fig = plt.figure()\n",
        "for i in range(9):\n",
        "  plt.subplot(3,3,i+1)\n",
        "  plt.tight_layout()\n",
        "  plt.imshow(train[i], cmap='gray', interpolation='none')\n",
        "  plt.title(\"Digit: {}\".format(train_y[i]))\n",
        "  plt.xticks([])\n",
        "  plt.yticks([])"
      ],
      "execution_count": 3,
      "outputs": [
        {
          "output_type": "stream",
          "text": [
            "Downloading data from https://storage.googleapis.com/tensorflow/tf-keras-datasets/mnist.npz\n",
            "11493376/11490434 [==============================] - 0s 0us/step\n"
          ],
          "name": "stdout"
        },
        {
          "output_type": "stream",
          "text": [
            "/usr/local/lib/python3.7/dist-packages/ipykernel_launcher.py:5: FutureWarning: Using a non-tuple sequence for multidimensional indexing is deprecated; use `arr[tuple(seq)]` instead of `arr[seq]`. In the future this will be interpreted as an array index, `arr[np.array(seq)]`, which will result either in an error or a different result.\n",
            "  \"\"\"\n",
            "/usr/local/lib/python3.7/dist-packages/ipykernel_launcher.py:6: FutureWarning: Using a non-tuple sequence for multidimensional indexing is deprecated; use `arr[tuple(seq)]` instead of `arr[seq]`. In the future this will be interpreted as an array index, `arr[np.array(seq)]`, which will result either in an error or a different result.\n",
            "  \n"
          ],
          "name": "stderr"
        },
        {
          "output_type": "display_data",
          "data": {
            "image/png": "[encoded data removed]",
            "text/plain": [
              "<Figure size 432x288 with 9 Axes>"
            ]
          },
          "metadata": {
            "tags": []
          }
        }
      ]
    },
    {
      "cell_type": "code",
      "metadata": {
        "colab": {
          "base_uri": "https://localhost:8080/"
        },
        "id": "Z0uFtm7E9dvU",
        "outputId": "bb272da5-5904-4245-edba-cfafcc56c111"
      },
      "source": [
        "# Split data into Train, Val, Test and flatten the images\n",
        "frac = 0.15\n",
        "\n",
        "n = int(frac*(train.shape[0]))\n",
        "val = train[:n]\n",
        "train = train[n:]\n",
        "\n",
        "train = train.reshape(train.shape[0], -1)\n",
        "val = val.reshape(val.shape[0], -1)\n",
        "test = test.reshape(test.shape[0], -1)\n",
        "\n",
        "print('Train: ', train.shape)\n",
        "print('Val: ', val.shape)\n",
        "print('Test:  ', test.shape)"
      ],
      "execution_count": 4,
      "outputs": [
        {
          "output_type": "stream",
          "text": [
            "Train:  (51000, 784)\n",
            "Val:  (9000, 784)\n",
            "Test:   (10000, 784)\n"
          ],
          "name": "stdout"
        }
      ]
    },
    {
      "cell_type": "markdown",
      "metadata": {
        "id": "-7sT-yDYPI2M"
      },
      "source": [
        "# Train and Inference"
      ]
    },
    {
      "cell_type": "code",
      "metadata": {
        "id": "yCLe1EBNPT-W"
      },
      "source": [
        "# RBM config\n",
        "num_hidden = 256 # number of hidden units\n",
        "lr = 0.001 # learning rate for gradient descent\n",
        "n = 1 # number of Gibbs sampling steps\n",
        "batch_size = 100 # mini batch size for gradient update\n",
        "epochs = 250 # number of epochs"
      ],
      "execution_count": 6,
      "outputs": []
    },
    {
      "cell_type": "code",
      "metadata": {
        "colab": {
          "base_uri": "https://localhost:8080/"
        },
        "id": "C3sHXwRmmmkt",
        "outputId": "fdb330e9-b3b4-4786-c86b-054c7c9c773a"
      },
      "source": [
        "rbm = RBM(num_hidden, val.shape[1], lr, n, batch_size, epochs)\n",
        "train_loss, val_loss = rbm.Train(train, val)"
      ],
      "execution_count": 7,
      "outputs": [
        {
          "output_type": "stream",
          "text": [
            "/usr/local/lib/python3.7/dist-packages/ipykernel_launcher.py:35: FutureWarning: Using a non-tuple sequence for multidimensional indexing is deprecated; use `arr[tuple(seq)]` instead of `arr[seq]`. In the future this will be interpreted as an array index, `arr[np.array(seq)]`, which will result either in an error or a different result.\n"
          ],
          "name": "stderr"
        },
        {
          "output_type": "stream",
          "text": [
            "Epoch 1 ------> Error => Train : 163.0267450980392, Val : 162.1151111111111\n",
            "Epoch 2 ------> Error => Train : 147.59329411764708, Val : 146.89133333333336\n",
            "Epoch 3 ------> Error => Train : 134.31156862745098, Val : 133.39233333333334\n",
            "Epoch 4 ------> Error => Train : 123.6634705882353, Val : 122.66277777777776\n",
            "Epoch 5 ------> Error => Train : 116.12386274509805, Val : 115.10966666666667\n",
            "Epoch 6 ------> Error => Train : 110.64670588235293, Val : 109.90477777777775\n",
            "Epoch 7 ------> Error => Train : 106.30529411764707, Val : 105.56077777777779\n",
            "Epoch 8 ------> Error => Train : 102.93503921568629, Val : 102.27099999999999\n",
            "Epoch 9 ------> Error => Train : 100.19607843137254, Val : 99.5058888888889\n",
            "Epoch 10 ------> Error => Train : 97.78394117647059, Val : 97.09733333333332\n",
            "Epoch 11 ------> Error => Train : 95.66425490196079, Val : 94.993\n",
            "Epoch 12 ------> Error => Train : 93.6744117647059, Val : 93.17711111111112\n",
            "Epoch 13 ------> Error => Train : 91.93764705882353, Val : 91.09233333333333\n",
            "Epoch 14 ------> Error => Train : 90.26409803921568, Val : 89.49977777777778\n",
            "Epoch 15 ------> Error => Train : 88.79274509803922, Val : 88.22922222222222\n",
            "Epoch 16 ------> Error => Train : 87.40149019607843, Val : 86.77533333333332\n",
            "Epoch 17 ------> Error => Train : 86.16466666666668, Val : 85.5988888888889\n",
            "Epoch 18 ------> Error => Train : 84.8944705882353, Val : 84.25077777777778\n",
            "Epoch 19 ------> Error => Train : 83.79543137254902, Val : 83.26677777777778\n",
            "Epoch 20 ------> Error => Train : 82.7472156862745, Val : 82.10066666666665\n",
            "Epoch 21 ------> Error => Train : 81.84817647058823, Val : 81.1418888888889\n",
            "Epoch 22 ------> Error => Train : 80.81482352941177, Val : 80.16466666666666\n",
            "Epoch 23 ------> Error => Train : 79.94958823529413, Val : 79.332\n",
            "Epoch 24 ------> Error => Train : 79.0626274509804, Val : 78.44622222222222\n",
            "Epoch 25 ------> Error => Train : 78.31374509803922, Val : 77.72677777777778\n",
            "Epoch 26 ------> Error => Train : 77.58049019607843, Val : 77.01111111111112\n",
            "Epoch 27 ------> Error => Train : 76.79407843137255, Val : 76.20777777777778\n",
            "Epoch 28 ------> Error => Train : 76.14582352941177, Val : 75.66766666666666\n",
            "Epoch 29 ------> Error => Train : 75.42298039215686, Val : 74.887\n",
            "Epoch 30 ------> Error => Train : 74.74988235294119, Val : 74.1238888888889\n",
            "Epoch 31 ------> Error => Train : 74.1823137254902, Val : 73.68677777777778\n",
            "Epoch 32 ------> Error => Train : 73.51458823529411, Val : 73.00011111111111\n",
            "Epoch 33 ------> Error => Train : 72.99403921568629, Val : 72.50755555555556\n",
            "Epoch 34 ------> Error => Train : 72.46696078431373, Val : 71.956\n",
            "Epoch 35 ------> Error => Train : 71.91266666666667, Val : 71.28099999999999\n",
            "Epoch 36 ------> Error => Train : 71.39898039215686, Val : 70.892\n",
            "Epoch 37 ------> Error => Train : 70.87839215686273, Val : 70.26877777777779\n",
            "Epoch 38 ------> Error => Train : 70.4113137254902, Val : 69.85333333333332\n",
            "Epoch 39 ------> Error => Train : 69.99782352941176, Val : 69.39988888888888\n",
            "Epoch 40 ------> Error => Train : 69.55225490196078, Val : 68.93155555555555\n",
            "Epoch 41 ------> Error => Train : 69.0006274509804, Val : 68.58022222222223\n",
            "Epoch 42 ------> Error => Train : 68.66617647058823, Val : 67.97577777777778\n",
            "Epoch 43 ------> Error => Train : 68.17686274509805, Val : 67.76766666666666\n",
            "Epoch 44 ------> Error => Train : 67.8520588235294, Val : 67.32466666666666\n",
            "Epoch 45 ------> Error => Train : 67.42080392156863, Val : 66.86877777777778\n",
            "Epoch 46 ------> Error => Train : 67.01703921568627, Val : 66.54022222222223\n",
            "Epoch 47 ------> Error => Train : 66.69535294117648, Val : 66.21866666666666\n",
            "Epoch 48 ------> Error => Train : 66.32103921568627, Val : 65.84511111111111\n",
            "Epoch 49 ------> Error => Train : 65.94029411764706, Val : 65.42844444444444\n",
            "Epoch 50 ------> Error => Train : 65.59770588235295, Val : 65.08422222222222\n",
            "Epoch 51 ------> Error => Train : 65.23107843137255, Val : 64.736\n",
            "Epoch 52 ------> Error => Train : 64.97305882352941, Val : 64.481\n",
            "Epoch 53 ------> Error => Train : 64.65325490196079, Val : 64.25588888888889\n",
            "Epoch 54 ------> Error => Train : 64.34029411764706, Val : 63.90188888888889\n",
            "Epoch 55 ------> Error => Train : 64.06013725490196, Val : 63.64777777777778\n",
            "Epoch 56 ------> Error => Train : 63.75129411764706, Val : 63.203444444444436\n",
            "Epoch 57 ------> Error => Train : 63.441196078431375, Val : 62.89522222222222\n",
            "Epoch 58 ------> Error => Train : 63.168882352941175, Val : 62.58577777777778\n",
            "Epoch 59 ------> Error => Train : 62.84309803921569, Val : 62.37244444444444\n",
            "Epoch 60 ------> Error => Train : 62.679647058823534, Val : 62.206999999999994\n",
            "Epoch 61 ------> Error => Train : 62.394294117647064, Val : 61.903777777777776\n",
            "Epoch 62 ------> Error => Train : 62.02776470588235, Val : 61.55566666666667\n",
            "Epoch 63 ------> Error => Train : 61.85317647058824, Val : 61.46677777777778\n",
            "Epoch 64 ------> Error => Train : 61.56876470588236, Val : 61.23433333333333\n",
            "Epoch 65 ------> Error => Train : 61.36698039215686, Val : 60.89999999999999\n",
            "Epoch 66 ------> Error => Train : 61.09886274509804, Val : 60.50355555555555\n",
            "Epoch 67 ------> Error => Train : 60.826941176470584, Val : 60.471111111111114\n",
            "Epoch 68 ------> Error => Train : 60.6394705882353, Val : 60.21677777777778\n",
            "Epoch 69 ------> Error => Train : 60.34143137254902, Val : 59.98711111111111\n",
            "Epoch 70 ------> Error => Train : 60.14027450980392, Val : 59.72122222222222\n",
            "Epoch 71 ------> Error => Train : 59.98409803921569, Val : 59.57866666666666\n",
            "Epoch 72 ------> Error => Train : 59.751392156862735, Val : 59.248666666666665\n",
            "Epoch 73 ------> Error => Train : 59.572039215686274, Val : 59.22766666666667\n",
            "Epoch 74 ------> Error => Train : 59.32735294117647, Val : 59.02133333333333\n",
            "Epoch 75 ------> Error => Train : 59.15107843137254, Val : 58.72777777777778\n",
            "Epoch 76 ------> Error => Train : 58.92958823529412, Val : 58.413888888888884\n",
            "Epoch 77 ------> Error => Train : 58.70790196078431, Val : 58.31033333333333\n",
            "Epoch 78 ------> Error => Train : 58.48449019607843, Val : 58.227111111111114\n",
            "Epoch 79 ------> Error => Train : 58.28521568627451, Val : 57.909444444444446\n",
            "Epoch 80 ------> Error => Train : 58.17376470588235, Val : 57.82433333333333\n",
            "Epoch 81 ------> Error => Train : 57.962, Val : 57.565\n",
            "Epoch 82 ------> Error => Train : 57.73605882352941, Val : 57.45522222222222\n",
            "Epoch 83 ------> Error => Train : 57.552, Val : 57.21133333333333\n",
            "Epoch 84 ------> Error => Train : 57.411941176470584, Val : 56.99388888888889\n",
            "Epoch 85 ------> Error => Train : 57.21629411764706, Val : 56.87577777777778\n",
            "Epoch 86 ------> Error => Train : 57.04672549019608, Val : 56.611222222222224\n",
            "Epoch 87 ------> Error => Train : 56.884313725490195, Val : 56.446222222222225\n",
            "Epoch 88 ------> Error => Train : 56.76605882352941, Val : 56.32544444444444\n",
            "Epoch 89 ------> Error => Train : 56.55854901960784, Val : 56.164\n",
            "Epoch 90 ------> Error => Train : 56.430627450980396, Val : 56.019222222222226\n",
            "Epoch 91 ------> Error => Train : 56.22286274509804, Val : 55.861000000000004\n",
            "Epoch 92 ------> Error => Train : 56.0855294117647, Val : 55.67877777777778\n",
            "Epoch 93 ------> Error => Train : 55.88403921568628, Val : 55.51555555555556\n",
            "Epoch 94 ------> Error => Train : 55.78603921568627, Val : 55.30111111111111\n",
            "Epoch 95 ------> Error => Train : 55.638254901960785, Val : 55.226555555555564\n",
            "Epoch 96 ------> Error => Train : 55.46601960784314, Val : 55.06055555555555\n",
            "Epoch 97 ------> Error => Train : 55.336176470588235, Val : 55.02388888888889\n",
            "Epoch 98 ------> Error => Train : 55.19449019607843, Val : 54.532666666666664\n",
            "Epoch 99 ------> Error => Train : 55.07847058823529, Val : 54.75566666666667\n",
            "Epoch 100 ------> Error => Train : 54.90007843137255, Val : 54.57844444444444\n",
            "Epoch 101 ------> Error => Train : 54.733843137254894, Val : 54.41877777777778\n",
            "Epoch 102 ------> Error => Train : 54.62717647058824, Val : 54.32788888888889\n",
            "Epoch 103 ------> Error => Train : 54.48643137254902, Val : 54.14966666666666\n",
            "Epoch 104 ------> Error => Train : 54.30960784313726, Val : 53.92522222222222\n",
            "Epoch 105 ------> Error => Train : 54.184588235294115, Val : 53.88622222222222\n",
            "Epoch 106 ------> Error => Train : 54.08217647058824, Val : 53.835111111111104\n",
            "Epoch 107 ------> Error => Train : 53.91482352941176, Val : 53.62122222222222\n",
            "Epoch 108 ------> Error => Train : 53.77605882352941, Val : 53.470555555555556\n",
            "Epoch 109 ------> Error => Train : 53.759019607843136, Val : 53.57322222222222\n",
            "Epoch 110 ------> Error => Train : 53.57766666666667, Val : 53.29488888888889\n",
            "Epoch 111 ------> Error => Train : 53.45347058823529, Val : 53.14\n",
            "Epoch 112 ------> Error => Train : 53.310352941176475, Val : 53.01455555555556\n",
            "Epoch 113 ------> Error => Train : 53.192960784313726, Val : 52.894666666666666\n",
            "Epoch 114 ------> Error => Train : 53.07833333333333, Val : 52.757999999999996\n",
            "Epoch 115 ------> Error => Train : 52.97682352941176, Val : 52.654777777777774\n",
            "Epoch 116 ------> Error => Train : 52.83443137254902, Val : 52.422222222222224\n",
            "Epoch 117 ------> Error => Train : 52.74815686274509, Val : 52.385777777777776\n",
            "Epoch 118 ------> Error => Train : 52.6106862745098, Val : 52.349444444444444\n",
            "Epoch 119 ------> Error => Train : 52.46656862745098, Val : 52.13666666666667\n",
            "Epoch 120 ------> Error => Train : 52.37837254901961, Val : 52.10877777777778\n",
            "Epoch 121 ------> Error => Train : 52.328196078431375, Val : 51.90277777777778\n",
            "Epoch 122 ------> Error => Train : 52.18384313725491, Val : 51.91122222222222\n",
            "Epoch 123 ------> Error => Train : 52.05049019607843, Val : 51.80888888888889\n",
            "Epoch 124 ------> Error => Train : 51.97129411764706, Val : 51.67755555555555\n",
            "Epoch 125 ------> Error => Train : 51.839588235294116, Val : 51.57766666666666\n",
            "Epoch 126 ------> Error => Train : 51.74856862745098, Val : 51.33477777777778\n",
            "Epoch 127 ------> Error => Train : 51.65419607843137, Val : 51.336\n",
            "Epoch 128 ------> Error => Train : 51.55119607843137, Val : 51.236333333333334\n",
            "Epoch 129 ------> Error => Train : 51.42186274509803, Val : 50.99411111111111\n",
            "Epoch 130 ------> Error => Train : 51.27392156862746, Val : 51.04655555555556\n",
            "Epoch 131 ------> Error => Train : 51.253549019607846, Val : 50.851333333333336\n",
            "Epoch 132 ------> Error => Train : 51.13656862745098, Val : 50.86677777777777\n",
            "Epoch 133 ------> Error => Train : 51.03205882352941, Val : 50.83544444444445\n",
            "Epoch 134 ------> Error => Train : 50.93574509803922, Val : 50.66144444444444\n",
            "Epoch 135 ------> Error => Train : 50.82294117647059, Val : 50.61811111111111\n",
            "Epoch 136 ------> Error => Train : 50.712745098039214, Val : 50.54333333333333\n",
            "Epoch 137 ------> Error => Train : 50.69037254901961, Val : 50.440777777777775\n",
            "Epoch 138 ------> Error => Train : 50.5453725490196, Val : 50.35755555555556\n",
            "Epoch 139 ------> Error => Train : 50.51949019607843, Val : 50.32044444444445\n",
            "Epoch 140 ------> Error => Train : 50.39062745098039, Val : 50.17611111111111\n",
            "Epoch 141 ------> Error => Train : 50.335235294117645, Val : 50.02922222222222\n",
            "Epoch 142 ------> Error => Train : 50.23311764705882, Val : 49.94377777777778\n",
            "Epoch 143 ------> Error => Train : 50.10321568627451, Val : 49.772555555555556\n",
            "Epoch 144 ------> Error => Train : 50.04750980392157, Val : 49.800888888888885\n",
            "Epoch 145 ------> Error => Train : 49.91449019607843, Val : 49.718444444444444\n",
            "Epoch 146 ------> Error => Train : 49.87301960784313, Val : 49.59788888888889\n",
            "Epoch 147 ------> Error => Train : 49.77672549019607, Val : 49.397000000000006\n",
            "Epoch 148 ------> Error => Train : 49.69327450980391, Val : 49.45288888888889\n",
            "Epoch 149 ------> Error => Train : 49.54025490196079, Val : 49.34288888888888\n",
            "Epoch 150 ------> Error => Train : 49.53021568627451, Val : 49.23466666666666\n",
            "Epoch 151 ------> Error => Train : 49.3986862745098, Val : 49.20055555555556\n",
            "Epoch 152 ------> Error => Train : 49.37992156862745, Val : 49.07055555555556\n",
            "Epoch 153 ------> Error => Train : 49.269745098039216, Val : 48.992888888888885\n",
            "Epoch 154 ------> Error => Train : 49.19709803921569, Val : 48.96022222222222\n",
            "Epoch 155 ------> Error => Train : 49.09403921568627, Val : 48.888777777777776\n",
            "Epoch 156 ------> Error => Train : 49.058647058823524, Val : 48.82188888888889\n",
            "Epoch 157 ------> Error => Train : 48.93633333333333, Val : 48.74322222222222\n",
            "Epoch 158 ------> Error => Train : 48.86598039215686, Val : 48.67577777777778\n",
            "Epoch 159 ------> Error => Train : 48.82833333333333, Val : 48.44555555555556\n",
            "Epoch 160 ------> Error => Train : 48.6973137254902, Val : 48.497\n",
            "Epoch 161 ------> Error => Train : 48.681980392156866, Val : 48.446999999999996\n",
            "Epoch 162 ------> Error => Train : 48.5423725490196, Val : 48.38755555555555\n",
            "Epoch 163 ------> Error => Train : 48.529078431372554, Val : 48.28388888888888\n",
            "Epoch 164 ------> Error => Train : 48.412137254901964, Val : 48.03388888888889\n",
            "Epoch 165 ------> Error => Train : 48.37392156862745, Val : 48.117111111111114\n",
            "Epoch 166 ------> Error => Train : 48.3173137254902, Val : 47.98211111111111\n",
            "Epoch 167 ------> Error => Train : 48.25909803921568, Val : 47.893777777777785\n",
            "Epoch 168 ------> Error => Train : 48.204686274509804, Val : 47.986555555555555\n",
            "Epoch 169 ------> Error => Train : 48.074431372549014, Val : 47.751999999999995\n",
            "Epoch 170 ------> Error => Train : 47.98919607843138, Val : 47.769777777777776\n",
            "Epoch 171 ------> Error => Train : 47.93862745098039, Val : 47.708\n",
            "Epoch 172 ------> Error => Train : 47.86033333333333, Val : 47.58533333333333\n",
            "Epoch 173 ------> Error => Train : 47.78752941176471, Val : 47.40944444444444\n",
            "Epoch 174 ------> Error => Train : 47.723, Val : 47.480333333333334\n",
            "Epoch 175 ------> Error => Train : 47.6308431372549, Val : 47.425222222222224\n",
            "Epoch 176 ------> Error => Train : 47.59643137254902, Val : 47.33722222222222\n",
            "Epoch 177 ------> Error => Train : 47.54323529411765, Val : 47.312444444444445\n",
            "Epoch 178 ------> Error => Train : 47.47572549019607, Val : 47.256888888888895\n",
            "Epoch 179 ------> Error => Train : 47.3923137254902, Val : 47.215444444444444\n",
            "Epoch 180 ------> Error => Train : 47.33813725490196, Val : 47.08733333333333\n",
            "Epoch 181 ------> Error => Train : 47.273784313725486, Val : 47.11222222222222\n",
            "Epoch 182 ------> Error => Train : 47.19890196078431, Val : 47.08366666666667\n",
            "Epoch 183 ------> Error => Train : 47.125431372549016, Val : 46.89344444444444\n",
            "Epoch 184 ------> Error => Train : 47.06901960784313, Val : 46.884\n",
            "Epoch 185 ------> Error => Train : 47.038333333333334, Val : 46.78011111111111\n",
            "Epoch 186 ------> Error => Train : 46.928431372549014, Val : 46.759\n",
            "Epoch 187 ------> Error => Train : 46.84925490196078, Val : 46.61622222222222\n",
            "Epoch 188 ------> Error => Train : 46.8738431372549, Val : 46.68944444444445\n",
            "Epoch 189 ------> Error => Train : 46.77568627450981, Val : 46.54655555555556\n",
            "Epoch 190 ------> Error => Train : 46.73407843137255, Val : 46.49677777777778\n",
            "Epoch 191 ------> Error => Train : 46.64794117647059, Val : 46.45588888888889\n",
            "Epoch 192 ------> Error => Train : 46.608490196078435, Val : 46.50244444444445\n",
            "Epoch 193 ------> Error => Train : 46.58129411764706, Val : 46.43811111111111\n",
            "Epoch 194 ------> Error => Train : 46.45656862745098, Val : 46.260666666666665\n",
            "Epoch 195 ------> Error => Train : 46.434666666666665, Val : 46.13955555555556\n",
            "Epoch 196 ------> Error => Train : 46.36949019607843, Val : 46.21922222222222\n",
            "Epoch 197 ------> Error => Train : 46.30764705882353, Val : 46.14011111111111\n",
            "Epoch 198 ------> Error => Train : 46.256490196078424, Val : 46.022333333333336\n",
            "Epoch 199 ------> Error => Train : 46.20727450980392, Val : 46.010999999999996\n",
            "Epoch 200 ------> Error => Train : 46.15249019607843, Val : 45.89377777777777\n",
            "Epoch 201 ------> Error => Train : 46.04701960784314, Val : 45.894111111111116\n",
            "Epoch 202 ------> Error => Train : 45.98972549019608, Val : 45.913555555555554\n",
            "Epoch 203 ------> Error => Train : 45.96823529411765, Val : 45.772888888888886\n",
            "Epoch 204 ------> Error => Train : 45.93349019607843, Val : 45.77677777777778\n",
            "Epoch 205 ------> Error => Train : 45.83019607843138, Val : 45.623444444444445\n",
            "Epoch 206 ------> Error => Train : 45.80396078431373, Val : 45.571888888888886\n",
            "Epoch 207 ------> Error => Train : 45.72554901960784, Val : 45.46622222222223\n",
            "Epoch 208 ------> Error => Train : 45.70543137254902, Val : 45.47077777777778\n",
            "Epoch 209 ------> Error => Train : 45.633294117647054, Val : 45.448\n",
            "Epoch 210 ------> Error => Train : 45.59309803921568, Val : 45.342555555555556\n",
            "Epoch 211 ------> Error => Train : 45.505568627450984, Val : 45.33011111111111\n",
            "Epoch 212 ------> Error => Train : 45.47578431372549, Val : 45.349555555555554\n",
            "Epoch 213 ------> Error => Train : 45.45886274509804, Val : 45.32455555555555\n",
            "Epoch 214 ------> Error => Train : 45.360647058823524, Val : 45.233111111111114\n",
            "Epoch 215 ------> Error => Train : 45.317470588235295, Val : 45.138999999999996\n",
            "Epoch 216 ------> Error => Train : 45.26739215686275, Val : 45.15744444444445\n",
            "Epoch 217 ------> Error => Train : 45.211666666666666, Val : 45.08144444444444\n",
            "Epoch 218 ------> Error => Train : 45.17203921568627, Val : 44.837888888888884\n",
            "Epoch 219 ------> Error => Train : 45.14649019607843, Val : 45.02422222222222\n",
            "Epoch 220 ------> Error => Train : 45.04778431372549, Val : 44.99366666666667\n",
            "Epoch 221 ------> Error => Train : 45.00470588235294, Val : 44.802\n",
            "Epoch 222 ------> Error => Train : 44.98996078431372, Val : 44.97466666666667\n",
            "Epoch 223 ------> Error => Train : 44.913117647058826, Val : 44.87488888888889\n",
            "Epoch 224 ------> Error => Train : 44.857960784313725, Val : 44.80688888888889\n",
            "Epoch 225 ------> Error => Train : 44.857000000000006, Val : 44.690666666666665\n",
            "Epoch 226 ------> Error => Train : 44.795686274509805, Val : 44.638555555555556\n",
            "Epoch 227 ------> Error => Train : 44.7178431372549, Val : 44.571666666666665\n",
            "Epoch 228 ------> Error => Train : 44.72752941176471, Val : 44.525444444444446\n",
            "Epoch 229 ------> Error => Train : 44.661411764705875, Val : 44.534444444444446\n",
            "Epoch 230 ------> Error => Train : 44.57717647058823, Val : 44.37811111111111\n",
            "Epoch 231 ------> Error => Train : 44.52417647058823, Val : 44.36811111111111\n",
            "Epoch 232 ------> Error => Train : 44.503568627450974, Val : 44.38122222222222\n",
            "Epoch 233 ------> Error => Train : 44.483490196078435, Val : 44.24444444444444\n",
            "Epoch 234 ------> Error => Train : 44.37096078431372, Val : 44.30788888888888\n",
            "Epoch 235 ------> Error => Train : 44.28943137254902, Val : 44.20488888888889\n",
            "Epoch 236 ------> Error => Train : 44.349647058823535, Val : 44.06522222222222\n",
            "Epoch 237 ------> Error => Train : 44.27325490196078, Val : 44.15555555555555\n",
            "Epoch 238 ------> Error => Train : 44.17647058823529, Val : 43.959\n",
            "Epoch 239 ------> Error => Train : 44.12978431372549, Val : 44.05988888888889\n",
            "Epoch 240 ------> Error => Train : 44.16178431372549, Val : 44.017\n",
            "Epoch 241 ------> Error => Train : 44.066647058823534, Val : 43.92166666666667\n",
            "Epoch 242 ------> Error => Train : 44.05619607843137, Val : 43.906555555555556\n",
            "Epoch 243 ------> Error => Train : 43.99588235294118, Val : 43.86333333333334\n",
            "Epoch 244 ------> Error => Train : 43.97976470588235, Val : 43.81155555555556\n",
            "Epoch 245 ------> Error => Train : 43.926980392156864, Val : 43.788555555555554\n",
            "Epoch 246 ------> Error => Train : 43.88860784313726, Val : 43.724555555555554\n",
            "Epoch 247 ------> Error => Train : 43.80027450980393, Val : 43.68355555555556\n",
            "Epoch 248 ------> Error => Train : 43.8153137254902, Val : 43.64055555555556\n",
            "Epoch 249 ------> Error => Train : 43.75413725490196, Val : 43.635666666666665\n",
            "Epoch 250 ------> Error => Train : 43.71072549019608, Val : 43.60933333333334\n"
          ],
          "name": "stdout"
        }
      ]
    },
    {
      "cell_type": "code",
      "metadata": {
        "colab": {
          "base_uri": "https://localhost:8080/",
          "height": 312
        },
        "id": "-Yefr5jKS7AT",
        "outputId": "56df617d-ce7b-4d84-dff4-71646642d130"
      },
      "source": [
        "fig = plt.figure()\n",
        "plt.plot(train_loss, c='r', label=\"Train\")\n",
        "plt.plot(val_loss, c='g', label=\"Val\")\n",
        "plt.legend()\n",
        "plt.title(\"Reconstruction Error\")\n",
        "plt.xlabel(\"Epoch\")\n",
        "plt.ylabel(\"Error\")"
      ],
      "execution_count": 8,
      "outputs": [
        {
          "output_type": "execute_result",
          "data": {
            "text/plain": [
              "Text(0, 0.5, 'Error')"
            ]
          },
          "metadata": {
            "tags": []
          },
          "execution_count": 8
        },
        {
          "output_type": "display_data",
          "data": {
            "image/png": "[encoded data removed]",
            "text/plain": [
              "<Figure size 432x288 with 1 Axes>"
            ]
          },
          "metadata": {
            "tags": [],
            "needs_background": "light"
          }
        }
      ]
    },
    {
      "cell_type": "markdown",
      "metadata": {
        "id": "Lol-hyPcBByF"
      },
      "source": [
        "# Test data image reconstruction\n",
        "\n",
        "---\n",
        "\n"
      ]
    },
    {
      "cell_type": "code",
      "metadata": {
        "colab": {
          "base_uri": "https://localhost:8080/",
          "height": 336
        },
        "id": "mHybMXHyBAKH",
        "outputId": "53c9a4f8-c2a6-403a-c367-d3b4b72010e6"
      },
      "source": [
        "print(\"\\n\\nOriginal Images ....\")\n",
        "fig1 = plt.figure()\n",
        "for i in range(9):\n",
        "  plt.subplot(3,3,i+1)\n",
        "  plt.tight_layout()\n",
        "  plt.imshow(test[i].reshape((28,28)), cmap='gray', interpolation='none')\n",
        "  plt.title(\"Digit: {}\".format(test_y[i]))\n",
        "  plt.xticks([])\n",
        "  plt.yticks([])"
      ],
      "execution_count": 9,
      "outputs": [
        {
          "output_type": "stream",
          "text": [
            "\n",
            "\n",
            "Original Images ....\n"
          ],
          "name": "stdout"
        },
        {
          "output_type": "display_data",
          "data": {
            "image/png": "[encoded data removed]",
            "text/plain": [
              "<Figure size 432x288 with 9 Axes>"
            ]
          },
          "metadata": {
            "tags": []
          }
        }
      ]
    },
    {
      "cell_type": "code",
      "metadata": {
        "colab": {
          "base_uri": "https://localhost:8080/",
          "height": 373
        },
        "id": "kLQRDTvgBh_Z",
        "outputId": "ed9f04ef-3917-482e-e214-ed75f28d937a"
      },
      "source": [
        "print(\"\\n\\nSampled images....\")\n",
        "fig2 = plt.figure()\n",
        "for i in range(9):\n",
        "  plt.subplot(3,3,i+1)\n",
        "  plt.tight_layout()\n",
        "\n",
        "  # 1 step sampling\n",
        "  img = rbm.reconstruct_image(test[i].T.reshape((784,1)))\n",
        "\n",
        "  plt.imshow(img.reshape((28,28)), cmap='gray', interpolation='none')\n",
        "  plt.title(\"Digit: {}\".format(test_y[i]))\n",
        "  plt.xticks([])\n",
        "  plt.yticks([])"
      ],
      "execution_count": 10,
      "outputs": [
        {
          "output_type": "stream",
          "text": [
            "\n",
            "\n",
            "Sampled images....\n"
          ],
          "name": "stdout"
        },
        {
          "output_type": "stream",
          "text": [
            "/usr/local/lib/python3.7/dist-packages/ipykernel_launcher.py:35: FutureWarning: Using a non-tuple sequence for multidimensional indexing is deprecated; use `arr[tuple(seq)]` instead of `arr[seq]`. In the future this will be interpreted as an array index, `arr[np.array(seq)]`, which will result either in an error or a different result.\n"
          ],
          "name": "stderr"
        },
        {
          "output_type": "display_data",
          "data": {
            "image/png": "[encoded data removed]",
            "text/plain": [
              "<Figure size 432x288 with 9 Axes>"
            ]
          },
          "metadata": {
            "tags": []
          }
        }
      ]
    }
  ]
}